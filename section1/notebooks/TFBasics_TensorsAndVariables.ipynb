{
 "cells": [
  {
   "cell_type": "markdown",
   "metadata": {
    "toc": "true"
   },
   "source": [
    "# Table of Contents\n",
    " <p><div class=\"lev1 toc-item\"><a href=\"#Tensors\" data-toc-modified-id=\"Tensors-1\"><span class=\"toc-item-num\">1&nbsp;&nbsp;</span>Tensors</a></div><div class=\"lev2 toc-item\"><a href=\"#Basic-Usage\" data-toc-modified-id=\"Basic-Usage-11\"><span class=\"toc-item-num\">1.1&nbsp;&nbsp;</span>Basic Usage</a></div><div class=\"lev2 toc-item\"><a href=\"#Additional-Resources\" data-toc-modified-id=\"Additional-Resources-12\"><span class=\"toc-item-num\">1.2&nbsp;&nbsp;</span>Additional Resources</a></div><div class=\"lev1 toc-item\"><a href=\"#Variables\" data-toc-modified-id=\"Variables-2\"><span class=\"toc-item-num\">2&nbsp;&nbsp;</span>Variables</a></div><div class=\"lev2 toc-item\"><a href=\"#Basic-Usage\" data-toc-modified-id=\"Basic-Usage-21\"><span class=\"toc-item-num\">2.1&nbsp;&nbsp;</span>Basic Usage</a></div><div class=\"lev2 toc-item\"><a href=\"#Important-to-Remember\" data-toc-modified-id=\"Important-to-Remember-22\"><span class=\"toc-item-num\">2.2&nbsp;&nbsp;</span>Important to Remember</a></div><div class=\"lev2 toc-item\"><a href=\"#Additional-Resources\" data-toc-modified-id=\"Additional-Resources-23\"><span class=\"toc-item-num\">2.3&nbsp;&nbsp;</span>Additional Resources</a></div>"
   ]
  },
  {
   "cell_type": "code",
   "execution_count": 1,
   "metadata": {},
   "outputs": [],
   "source": [
    "import tensorflow as tf\n",
    "from pprint import pprint"
   ]
  },
  {
   "cell_type": "markdown",
   "metadata": {},
   "source": [
    "# Tensors\n",
    "\n",
    "A tf.Tensor object represents a partially defined computation that will eventually produce a value. TensorFlow programs work by first building a graph of tf.Tensor objects, detailing how each tensor is computed based on the other available tensors and then by running parts of this graph to achieve the desired results."
   ]
  },
  {
   "cell_type": "markdown",
   "metadata": {},
   "source": [
    "## Basic Usage"
   ]
  },
  {
   "cell_type": "code",
   "execution_count": 2,
   "metadata": {
    "scrolled": false
   },
   "outputs": [
    {
     "name": "stdout",
     "output_type": "stream",
     "text": [
      "Constant Tensor that evaluates to 3:\n",
      "Tensor(\"Const:0\", shape=(), dtype=int32)\n",
      "\n",
      "Accessing a tensor's shape and data type:\n",
      "Shape: ()\n",
      "Data type: <dtype: 'int32'>\n"
     ]
    }
   ],
   "source": [
    "three = tf.constant(3)\n",
    "print('Constant Tensor that evaluates to 3:')\n",
    "print(three)\n",
    "\n",
    "print('\\nAccessing a tensor\\'s shape and data type:')\n",
    "print('Shape:', three.shape)\n",
    "print('Data type:', three.dtype)"
   ]
  },
  {
   "cell_type": "markdown",
   "metadata": {},
   "source": [
    "## Additional Resources\n",
    "\n",
    "* [Tensors](https://www.tensorflow.org/programmers_guide/tensors)\n",
    "* [tf.Tensor](https://www.tensorflow.org/api_docs/python/tf/Tensor)\n",
    "* [Source code: Tensor](https://github.com/tensorflow/tensorflow/blob/r1.4/tensorflow/python/framework/ops.py#L183)"
   ]
  },
  {
   "cell_type": "markdown",
   "metadata": {},
   "source": [
    "# Variables\n",
    "\n",
    "A TensorFlow variable is the best way to represent shared, persistent state manipulated by your program.\n",
    "\n",
    "- A tf.Variable represents a tensor whose value can be changed by running ops on it. \n",
    "- A tf.Variable exists outside the context of a single session.run call (unlike tf.Tensor objects).\n",
    "\n",
    "Internally, a tf.Variable stores a persistent tensor. Specific ops allow you to read and modify the values of this tensor. These modifications are visible across multiple tf.Sessions, so multiple workers can see the same values for a tf.Variable."
   ]
  },
  {
   "cell_type": "markdown",
   "metadata": {},
   "source": [
    "## Basic Usage"
   ]
  },
  {
   "cell_type": "code",
   "execution_count": 22,
   "metadata": {},
   "outputs": [],
   "source": [
    "tf.reset_default_graph()"
   ]
  },
  {
   "cell_type": "code",
   "execution_count": 23,
   "metadata": {},
   "outputs": [
    {
     "name": "stdout",
     "output_type": "stream",
     "text": [
      "Initialized all global variables:\n",
      "[<tf.Variable 'my_scope/var_basic:0' shape=() dtype=int32_ref>,\n",
      " <tf.Variable 'my_scope/var_get:0' shape=() dtype=int32_ref>,\n",
      " <tf.Variable 'my_scope/var_dep:0' shape=() dtype=int32_ref>]\n",
      "\n",
      "Evaluated tensors outputs: 6, 7\n"
     ]
    }
   ],
   "source": [
    "# tf.AUTO_REUSE: create variables if they do not exist, and return them otherwise.\n",
    "with tf.variable_scope('my_scope', reuse=tf.AUTO_REUSE):\n",
    "    # Creating a Variable directly via the tf.Variable constructor (old-school).\n",
    "    var_basic = tf.Variable(initial_value=5, dtype=tf.int32, name='var_basic')\n",
    "    # Creating a Variable via tf.get_variable (recommended).\n",
    "    var_get = tf.get_variable('var_get', dtype=tf.int32, initializer=6)\n",
    "    # Defining a variable whose initial value depends on another variable being initialized.\n",
    "    var_dep = tf.get_variable('var_dep', initializer=var_get.initialized_value() + 1)\n",
    "\n",
    "with tf.Session() as sess:\n",
    "    # Assigns initial values to all global variables.\n",
    "    # All variables are considered global by default.\n",
    "    sess.run(tf.global_variables_initializer())\n",
    "    print('Initialized all global variables:')\n",
    "    pprint(tf.get_collection(tf.GraphKeys.GLOBAL_VARIABLES))\n",
    "    \n",
    "    six, seven = sess.run([var_get, var_dep])\n",
    "    print('\\nEvaluated tensors outputs: {}, {}'.format(six, seven))"
   ]
  },
  {
   "cell_type": "markdown",
   "metadata": {},
   "source": [
    "To access a variable again, must call the exact same `get_variable` with the same parameters, and must do so in the same variable scope, as shown below for retrieving `var_get`."
   ]
  },
  {
   "cell_type": "code",
   "execution_count": 26,
   "metadata": {},
   "outputs": [
    {
     "name": "stdout",
     "output_type": "stream",
     "text": [
      "<tf.Variable 'my_scope/var_get:0' shape=() dtype=int32_ref>\n"
     ]
    }
   ],
   "source": [
    "with tf.variable_scope('my_scope', reuse=tf.AUTO_REUSE):\n",
    "    print(tf.get_variable('var_get', dtype=tf.int32, initializer=6))"
   ]
  },
  {
   "cell_type": "markdown",
   "metadata": {},
   "source": [
    "## Important to Remember\n",
    "\n",
    "By default every tf.Variable gets placed in the following two collections: \n",
    "* tf.GraphKeys.GLOBAL_VARIABLES --- variables that can be shared across multiple devices, \n",
    "* tf.GraphKeys.TRAINABLE_VARIABLES--- variables for which TensorFlow will calculate gradients."
   ]
  },
  {
   "cell_type": "markdown",
   "metadata": {},
   "source": [
    "## Additional Resources\n",
    "\n",
    "* [Variables](https://www.tensorflow.org/programmers_guide/variables)\n",
    "* [tf.Variable](https://www.tensorflow.org/api_docs/python/tf/Variable)\n",
    "* [Source code](https://github.com/tensorflow/tensorflow/blob/r1.4/tensorflow/python/ops/variables.py#L36)"
   ]
  },
  {
   "cell_type": "code",
   "execution_count": 5,
   "metadata": {},
   "outputs": [],
   "source": [
    "tf.reset_default_graph()"
   ]
  },
  {
   "cell_type": "code",
   "execution_count": 6,
   "metadata": {},
   "outputs": [
    {
     "data": {
      "text/plain": [
       "array([7., 8., 9.], dtype=float32)"
      ]
     },
     "execution_count": 6,
     "metadata": {},
     "output_type": "execute_result"
    }
   ],
   "source": [
    "sess = tf.InteractiveSession()\n",
    "y = tf.get_variable('y', initializer=[4., 5., 6.])\n",
    "z = y + 3\n",
    "y.initializer.run()\n",
    "z.eval()"
   ]
  },
  {
   "cell_type": "code",
   "execution_count": null,
   "metadata": {},
   "outputs": [],
   "source": []
  }
 ],
 "metadata": {
  "kernelspec": {
   "display_name": "Python 3",
   "language": "python",
   "name": "python3"
  },
  "language_info": {
   "codemirror_mode": {
    "name": "ipython",
    "version": 3
   },
   "file_extension": ".py",
   "mimetype": "text/x-python",
   "name": "python",
   "nbconvert_exporter": "python",
   "pygments_lexer": "ipython3",
   "version": "3.5.2"
  },
  "toc": {
   "colors": {
    "hover_highlight": "#DAA520",
    "navigate_num": "#000000",
    "navigate_text": "#333333",
    "running_highlight": "#FF0000",
    "selected_highlight": "#FFD700",
    "sidebar_border": "#EEEEEE",
    "wrapper_background": "#FFFFFF"
   },
   "moveMenuLeft": true,
   "nav_menu": {
    "height": "135px",
    "width": "254px"
   },
   "navigate_menu": true,
   "number_sections": true,
   "sideBar": false,
   "threshold": 4,
   "toc_cell": true,
   "toc_position": {
    "height": "40px",
    "left": "1360px",
    "right": "20px",
    "top": "66px",
    "width": "213px"
   },
   "toc_section_display": "none",
   "toc_window_display": true,
   "widenNotebook": false
  }
 },
 "nbformat": 4,
 "nbformat_minor": 2
}
