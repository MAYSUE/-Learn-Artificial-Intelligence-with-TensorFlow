{
 "cells": [
  {
   "cell_type": "markdown",
   "metadata": {
    "toc": "true"
   },
   "source": [
    "# Table of Contents\n",
    " <p><div class=\"lev1 toc-item\"><a href=\"#Graphs\" data-toc-modified-id=\"Graphs-1\"><span class=\"toc-item-num\">1&nbsp;&nbsp;</span>Graphs</a></div><div class=\"lev2 toc-item\"><a href=\"#Multiple-Graphs\" data-toc-modified-id=\"Multiple-Graphs-11\"><span class=\"toc-item-num\">1.1&nbsp;&nbsp;</span>Multiple Graphs</a></div><div class=\"lev1 toc-item\"><a href=\"#Sessions\" data-toc-modified-id=\"Sessions-2\"><span class=\"toc-item-num\">2&nbsp;&nbsp;</span>Sessions</a></div>"
   ]
  },
  {
   "cell_type": "code",
   "execution_count": 1,
   "metadata": {},
   "outputs": [],
   "source": [
    "import tensorflow as tf\n",
    "from pprint import pprint"
   ]
  },
  {
   "cell_type": "markdown",
   "metadata": {},
   "source": [
    "# Graphs\n",
    "\n",
    "A Graph contains a set of tf.Operation objects, which represent units of computation; and tf.Tensor objects, which represent the units of data that flow between operations."
   ]
  },
  {
   "cell_type": "code",
   "execution_count": 2,
   "metadata": {},
   "outputs": [],
   "source": [
    "tf.reset_default_graph()"
   ]
  },
  {
   "cell_type": "code",
   "execution_count": 3,
   "metadata": {},
   "outputs": [
    {
     "name": "stdout",
     "output_type": "stream",
     "text": [
      "All assertions passed!\n"
     ]
    }
   ],
   "source": [
    "x = tf.get_variable('x', shape=[5, 2, 3])\n",
    "y = tf.get_variable('y', shape=[5, 3, 1])\n",
    "# Reminder: matmul works with tensors of rank >=2, so long as\n",
    "# the inner 2 dimensions specify valid matrix multiplication arguments, \n",
    "# and any further outer dimensions match.\n",
    "z = tf.matmul(x, y, name='z')\n",
    "assert z.shape == (5, 2, 1)\n",
    "# Create and add `z` to a new collection called 'my_collection'.\n",
    "tf.add_to_collection('my_collection', z)\n",
    "# tf.get_collection() always returns an array of all objects that\n",
    "# have been added to it. We know that `my_collection` only has\n",
    "# one item: our variable `z`.\n",
    "assert z is tf.get_collection('my_collection')[0]\n",
    "\n",
    "default_graph = tf.get_default_graph()\n",
    "assert x.graph is default_graph\n",
    "assert x.graph is default_graph\n",
    "assert z.graph is default_graph\n",
    "assert z is default_graph.get_collection('my_collection')[0]\n",
    "print('All assertions passed!')"
   ]
  },
  {
   "cell_type": "markdown",
   "metadata": {},
   "source": [
    "Some ways of inspecting our graph:"
   ]
  },
  {
   "cell_type": "code",
   "execution_count": 4,
   "metadata": {},
   "outputs": [
    {
     "name": "stdout",
     "output_type": "stream",
     "text": [
      "default_graph.get_operations():\n",
      "[<tf.Operation 'x/Initializer/random_uniform/shape' type=Const>,\n",
      " <tf.Operation 'x/Initializer/random_uniform/min' type=Const>,\n",
      " <tf.Operation 'x/Initializer/random_uniform/max' type=Const>,\n",
      " <tf.Operation 'x/Initializer/random_uniform/RandomUniform' type=RandomUniform>,\n",
      " <tf.Operation 'x/Initializer/random_uniform/sub' type=Sub>,\n",
      " <tf.Operation 'x/Initializer/random_uniform/mul' type=Mul>,\n",
      " <tf.Operation 'x/Initializer/random_uniform' type=Add>,\n",
      " <tf.Operation 'x' type=VariableV2>,\n",
      " <tf.Operation 'x/Assign' type=Assign>,\n",
      " <tf.Operation 'x/read' type=Identity>,\n",
      " <tf.Operation 'y/Initializer/random_uniform/shape' type=Const>,\n",
      " <tf.Operation 'y/Initializer/random_uniform/min' type=Const>,\n",
      " <tf.Operation 'y/Initializer/random_uniform/max' type=Const>,\n",
      " <tf.Operation 'y/Initializer/random_uniform/RandomUniform' type=RandomUniform>,\n",
      " <tf.Operation 'y/Initializer/random_uniform/sub' type=Sub>,\n",
      " <tf.Operation 'y/Initializer/random_uniform/mul' type=Mul>,\n",
      " <tf.Operation 'y/Initializer/random_uniform' type=Add>,\n",
      " <tf.Operation 'y' type=VariableV2>,\n",
      " <tf.Operation 'y/Assign' type=Assign>,\n",
      " <tf.Operation 'y/read' type=Identity>,\n",
      " <tf.Operation 'z' type=BatchMatMul>]\n",
      "\n",
      "default_graph.get_all_colection_keys():\n",
      "['my_collection', 'trainable_variables', 'variables']\n",
      "\n",
      "default_graph.get_tensor_by_name('x:0'):\n",
      "<tf.Tensor 'x:0' shape=(5, 2, 3) dtype=float32_ref>\n",
      "\n",
      "default_graph.get_operation_by_name('x'):\n",
      "<tf.Operation 'x' type=VariableV2>\n"
     ]
    }
   ],
   "source": [
    "print('default_graph.get_operations():')\n",
    "pprint(default_graph.get_operations())\n",
    "\n",
    "print('\\ndefault_graph.get_all_colection_keys():')\n",
    "pprint(default_graph.get_all_collection_keys())\n",
    "\n",
    "print('\\ndefault_graph.get_tensor_by_name(\\'x:0\\'):')\n",
    "pprint(default_graph.get_tensor_by_name('x:0'))\n",
    "\n",
    "print('\\ndefault_graph.get_operation_by_name(\\'x\\'):')\n",
    "pprint(default_graph.get_operation_by_name('x'))"
   ]
  },
  {
   "cell_type": "markdown",
   "metadata": {},
   "source": [
    "## Multiple Graphs"
   ]
  },
  {
   "cell_type": "code",
   "execution_count": 5,
   "metadata": {},
   "outputs": [
    {
     "name": "stdout",
     "output_type": "stream",
     "text": [
      "Executing same assignment for `x` caused ValueError as expected.\n",
      "Assignment in new graph context runs without errors.\n"
     ]
    }
   ],
   "source": [
    "try:\n",
    "    x = tf.get_variable('x', shape=[5, 2, 3])\n",
    "except ValueError:\n",
    "    print('Executing same assignment for `x` caused ValueError as expected.')\n",
    "\n",
    "g = tf.Graph()\n",
    "with g.as_default():\n",
    "    x  = tf.get_variable('x', shape=[5, 2, 3])\n",
    "    print('Assignment in new graph context runs without errors.')\n",
    "    assert x.graph is g\n",
    "    assert x.graph is not default_graph"
   ]
  },
  {
   "cell_type": "markdown",
   "metadata": {},
   "source": [
    "# Sessions"
   ]
  },
  {
   "cell_type": "code",
   "execution_count": 6,
   "metadata": {},
   "outputs": [],
   "source": [
    "tf.reset_default_graph()"
   ]
  },
  {
   "cell_type": "code",
   "execution_count": 7,
   "metadata": {
    "scrolled": false
   },
   "outputs": [
    {
     "name": "stdout",
     "output_type": "stream",
     "text": [
      "output is numpy array of shape (5, 2, 1):\n",
      "array([[[ 0.05982378],\n",
      "        [-0.12150701]],\n",
      "\n",
      "       [[ 0.19535433],\n",
      "        [ 0.18391386]],\n",
      "\n",
      "       [[-0.07485058],\n",
      "        [-0.00403245]],\n",
      "\n",
      "       [[ 0.02210081],\n",
      "        [ 0.02186027]],\n",
      "\n",
      "       [[-0.05718764],\n",
      "        [ 0.26156434]]], dtype=float32)\n"
     ]
    }
   ],
   "source": [
    "x = tf.get_variable('x', shape=[5, 2, 3])\n",
    "y = tf.get_variable('y', shape=[5, 3, 1])\n",
    "z = tf.matmul(x, y, name='z')\n",
    "\n",
    "with tf.Session() as sess:\n",
    "    # Initialize our variables (using default initializer).\n",
    "    sess.run(tf.global_variables_initializer())\n",
    "    # Run the matrix multiplication on the randomly initialized variables.\n",
    "    output = sess.run(z)\n",
    "    print('output is numpy array of shape {}:'.format(output.shape))\n",
    "    pprint(output)"
   ]
  },
  {
   "cell_type": "code",
   "execution_count": null,
   "metadata": {},
   "outputs": [],
   "source": []
  }
 ],
 "metadata": {
  "kernelspec": {
   "display_name": "Python 3",
   "language": "python",
   "name": "python3"
  },
  "language_info": {
   "codemirror_mode": {
    "name": "ipython",
    "version": 3
   },
   "file_extension": ".py",
   "mimetype": "text/x-python",
   "name": "python",
   "nbconvert_exporter": "python",
   "pygments_lexer": "ipython3",
   "version": "3.5.2"
  },
  "toc": {
   "colors": {
    "hover_highlight": "#DAA520",
    "navigate_num": "#000000",
    "navigate_text": "#333333",
    "running_highlight": "#FF0000",
    "selected_highlight": "#FFD700",
    "sidebar_border": "#EEEEEE",
    "wrapper_background": "#FFFFFF"
   },
   "moveMenuLeft": true,
   "nav_menu": {
    "height": "56px",
    "width": "254px"
   },
   "navigate_menu": true,
   "number_sections": true,
   "sideBar": false,
   "threshold": 4,
   "toc_cell": true,
   "toc_position": {
    "height": "40px",
    "left": "1456.99px",
    "right": "20px",
    "top": "85.9961px",
    "width": "213px"
   },
   "toc_section_display": "none",
   "toc_window_display": true,
   "widenNotebook": false
  }
 },
 "nbformat": 4,
 "nbformat_minor": 2
}
